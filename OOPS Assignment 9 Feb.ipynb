{
 "cells": [
  {
   "cell_type": "markdown",
   "id": "f77d2c7e-9702-458d-8536-d3fdcbaf810b",
   "metadata": {},
   "source": [
    "Q1) Create a vehicle class with an init method having instance variables as name_of_vehicle, max_speed\n",
    "and average_of_vehicle."
   ]
  },
  {
   "cell_type": "code",
   "execution_count": 1,
   "id": "b633b3bd-c4c2-4c34-9380-bd76a016b3c7",
   "metadata": {},
   "outputs": [],
   "source": [
    "class Vehicle:\n",
    "    def __init__(self,name_of_vehicle, max_speed, average_of_vehicle):\n",
    "        self.name_of_vehicle = name_of_vehicle\n",
    "        self.max_speed = max_speed\n",
    "        self.average_of_vehicle = average_of_vehicle"
   ]
  },
  {
   "cell_type": "markdown",
   "id": "e69de9bf-6d81-4341-8ace-ec78bbe4c92a",
   "metadata": {},
   "source": [
    "Q2) Create a child class car from the vehicle class created in Que 1, which will inherit the vehicle class.\n",
    "Create a method named seating_capacity which takes capacity as an argument and returns the name of\n",
    "the vehicle and its seating capacity."
   ]
  },
  {
   "cell_type": "code",
   "execution_count": 3,
   "id": "9a376127-b5ff-4296-bb45-987b63661ea1",
   "metadata": {},
   "outputs": [
    {
     "name": "stdout",
     "output_type": "stream",
     "text": [
      "The Sedan has a seating capacity of 6.\n"
     ]
    }
   ],
   "source": [
    "class Vehicle:\n",
    "    def __init__(self, name_of_vehicle, max_speed, average_of_vehicle):\n",
    "        self.name_of_vehicle = name_of_vehicle\n",
    "        self.max_speed = max_speed\n",
    "        self.average_of_vehicle = average_of_vehicle\n",
    "\n",
    "class Car(Vehicle):\n",
    "    \n",
    "    def seating_capacity(self, capacity):\n",
    "        return f\"The {self.name_of_vehicle} has a seating capacity of {capacity}.\"\n",
    "\n",
    "my_car = Car(\"Sedan\", 200, 15)\n",
    "print(my_car.seating_capacity(6))"
   ]
  },
  {
   "cell_type": "markdown",
   "id": "1bf23f6c-5e12-43ff-95ce-251f444d8499",
   "metadata": {},
   "source": [
    "Q3) What is multiple inheritance? Write a python code to demonstrate multiple inheritance."
   ]
  },
  {
   "cell_type": "code",
   "execution_count": null,
   "id": "9db3baf5-916a-4c05-84ab-70ba0d744e25",
   "metadata": {},
   "outputs": [],
   "source": [
    "Multiple inheritance is a feature in object-oriented programming languages where a class can inherit properties and behavior from more than one parent class. This\n",
    "allows the child class to inherit attributes and methods from multiple parent classes, leading to a more reusable and flexible code.\n",
    "\n",
    "Here is an example in Python to demonstrate multiple inheritance:"
   ]
  },
  {
   "cell_type": "code",
   "execution_count": 3,
   "id": "a3c25dd9-de31-454b-ae2d-45df5ce97779",
   "metadata": {},
   "outputs": [
    {
     "name": "stdout",
     "output_type": "stream",
     "text": [
      "Father : RAM\n",
      "Mother : SITA\n"
     ]
    }
   ],
   "source": [
    "# Python program to demonstrate\n",
    "# multiple inheritance\n",
    " \n",
    "# Base class1\n",
    "class Mother:\n",
    "    mothername = \"\"\n",
    " \n",
    "    def mother(self):\n",
    "        print(self.mothername)\n",
    " \n",
    "\n",
    " # Base class2\n",
    "class Father:\n",
    "    fathername = \"\"\n",
    " \n",
    "    def father(self):\n",
    "        print(self.fathername)\n",
    " \n",
    "\n",
    "\n",
    " #Derived class\n",
    "class Son(Mother, Father):\n",
    "    def parents(self):\n",
    "        print(\"Father :\", self.fathername)\n",
    "        print(\"Mother :\", self.mothername)\n",
    " \n",
    " \n",
    "# Driver's code\n",
    "s1 = Son()\n",
    "s1.fathername = \"RAM\"\n",
    "s1.mothername = \"SITA\"\n",
    "s1.parents()"
   ]
  },
  {
   "cell_type": "markdown",
   "id": "ee3e7f6f-cfd8-4931-b89f-2bf6942ea635",
   "metadata": {},
   "source": [
    "Q4) What are getter and setter in python? Create a class and create a getter and a setter method in this class."
   ]
  },
  {
   "cell_type": "code",
   "execution_count": null,
   "id": "545839db-9f08-414b-a500-52ad537a89de",
   "metadata": {},
   "outputs": [],
   "source": [
    "In Python, getters and setters are not the same as those in other object-oriented programming languages. Basically, the main purpose of using getters and setters\n",
    "in object-oriented programs is to ensure data encapsulation. Private variables in python are not actually hidden fields like in other object oriented languages.\n",
    "Getters and Setters in python are used for the following reasons 1)To add validation logic around getting and setting a value. 2)To avoid direct access of a class\n",
    "field i.e. private variables cannot be accessed directly or modified by external user.\n",
    "\n",
    "A getter is a method that gets the value of a property.\n",
    "\n",
    "A setter is a method that sets the value of a property.\n",
    "\n",
    "There are many ways to create getter and setters in Python. The most pythonic wasy is using @property decorator\n",
    "\n",
    "Here's an example of a class with a getter and setter method in Python:"
   ]
  },
  {
   "cell_type": "code",
   "execution_count": 4,
   "id": "6ffb3c49-4d82-4da6-ab27-f7372b7300a1",
   "metadata": {},
   "outputs": [
    {
     "name": "stdout",
     "output_type": "stream",
     "text": [
      "John Doe\n",
      "Jane Doe\n"
     ]
    }
   ],
   "source": [
    "class Person:\n",
    "    def __init__(self, name, age):\n",
    "        self.__name = name\n",
    "        self.__age = age\n",
    "\n",
    "    @property                # getter for modifying name attribute\n",
    "    def name(self):\n",
    "        return self.__name\n",
    "\n",
    "    @name.setter             # setter for modifying name attribute\n",
    "    def name(self, name):\n",
    "        self.__name = name\n",
    "\n",
    "    @property                #getter for retrieving age attribute\n",
    "    def age(self):\n",
    "        return self.__age\n",
    "\n",
    "    @age.setter             #setter for modifying age attribute\n",
    "    def age(self, age):\n",
    "        self.__age = age\n",
    "\n",
    "person = Person(\"John Doe\", 30)\n",
    "print(person.name)  # Output: John Doe\n",
    "person.name = \"Jane Doe\"\n",
    "print(person.name)  # Output: Jane Doe"
   ]
  },
  {
   "cell_type": "code",
   "execution_count": null,
   "id": "7166dad9-15b4-444d-b211-b0afa9c8401b",
   "metadata": {},
   "outputs": [],
   "source": [
    "In this example, we use the property decorator to define the getter and setter methods for the name and age properties. The property decorator is used to create a\n",
    "read-only property, and the property.setter decorator is used to define a setter method for the property. This allows us to access and modify the properties of\n",
    "the Person object as if they were regular attributes, while still providing a controlled access to them."
   ]
  },
  {
   "cell_type": "markdown",
   "id": "30fa4cde-b6b3-48ba-ba75-13dac1ec2815",
   "metadata": {},
   "source": [
    "Q5)What is method overriding in python? Write a python code to demonstrate method overriding."
   ]
  },
  {
   "cell_type": "code",
   "execution_count": null,
   "id": "7ea5e16f-a190-4d8d-8bc1-7bb37dac436a",
   "metadata": {},
   "outputs": [],
   "source": [
    "Method overriding is a feature in object-oriented programming that allows a subclass to provide a specific implementation of a method that is already defined in\n",
    "its superclass. The purpose of method overriding is to allow a subclass to extend or modify the behavior of the superclass method.\n",
    "\n",
    "Here's an example of method overriding in Python:"
   ]
  },
  {
   "cell_type": "code",
   "execution_count": 5,
   "id": "b3ea743d-3a38-49ff-86b3-4d9fcc8f5098",
   "metadata": {},
   "outputs": [
    {
     "name": "stdout",
     "output_type": "stream",
     "text": [
      "Bark\n"
     ]
    }
   ],
   "source": [
    "#ParentClass\n",
    "class Animal:\n",
    "    def make_sound(self):\n",
    "        print(\"Animal sound\")\n",
    "        \n",
    "#Child Class\n",
    "class Dog(Animal):\n",
    "    def make_sound(self):\n",
    "        print(\"Bark\")\n",
    "\n",
    "dog = Dog()\n",
    "dog.make_sound()  # Output: Bark"
   ]
  },
  {
   "cell_type": "code",
   "execution_count": null,
   "id": "e45fd0ec-a78a-4ec8-9476-46dc876c0aa7",
   "metadata": {},
   "outputs": [],
   "source": [
    "In this example, we have two classes, Animal and Dog, where Dog is a subclass of Animal. The Animal class has a method make_sound which prints \"Animal sound\". The\n",
    "Dog class overrides this method by providing its own implementation, which prints \"Bark\".\n",
    "\n",
    "When we create an instance of the Dog class and call the make_sound method, it invokes the implementation in the Dog class, not the one in the Animal class."
   ]
  }
 ],
 "metadata": {
  "kernelspec": {
   "display_name": "Python 3 (ipykernel)",
   "language": "python",
   "name": "python3"
  },
  "language_info": {
   "codemirror_mode": {
    "name": "ipython",
    "version": 3
   },
   "file_extension": ".py",
   "mimetype": "text/x-python",
   "name": "python",
   "nbconvert_exporter": "python",
   "pygments_lexer": "ipython3",
   "version": "3.10.8"
  }
 },
 "nbformat": 4,
 "nbformat_minor": 5
}
